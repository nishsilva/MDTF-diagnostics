{
 "cells": [
  {
   "cell_type": "code",
   "execution_count": 1,
   "id": "99768773-e72d-4dd5-86cb-d315c0db7c0f",
   "metadata": {},
   "outputs": [],
   "source": [
    "# test notebook for git push/pull"
   ]
  },
  {
   "cell_type": "code",
   "execution_count": null,
   "id": "322400b7-c46a-4af9-8e1a-e2dd976e671c",
   "metadata": {},
   "outputs": [],
   "source": []
  }
 ],
 "metadata": {
  "kernelspec": {
   "display_name": "Python [conda env:_MDTF_python3_base]",
   "language": "python",
   "name": "conda-env-_MDTF_python3_base-py"
  },
  "language_info": {
   "codemirror_mode": {
    "name": "ipython",
    "version": 3
   },
   "file_extension": ".py",
   "mimetype": "text/x-python",
   "name": "python",
   "nbconvert_exporter": "python",
   "pygments_lexer": "ipython3",
   "version": "3.11.9"
  }
 },
 "nbformat": 4,
 "nbformat_minor": 5
}
